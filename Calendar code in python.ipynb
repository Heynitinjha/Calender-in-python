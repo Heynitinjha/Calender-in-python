{
 "cells": [
  {
   "cell_type": "code",
   "execution_count": 2,
   "id": "50ee920a",
   "metadata": {},
   "outputs": [
    {
     "name": "stdout",
     "output_type": "stream",
     "text": [
      "Enter Year:1828\n",
      "                                                  1828\n",
      "\n",
      "      January                     February                     March                       April\n",
      "Mo Tu We Th Fr Sa Su        Mo Tu We Th Fr Sa Su        Mo Tu We Th Fr Sa Su        Mo Tu We Th Fr Sa Su\n",
      "    1  2  3  4  5  6                     1  2  3                        1  2            1  2  3  4  5  6\n",
      " 7  8  9 10 11 12 13         4  5  6  7  8  9 10         3  4  5  6  7  8  9         7  8  9 10 11 12 13\n",
      "14 15 16 17 18 19 20        11 12 13 14 15 16 17        10 11 12 13 14 15 16        14 15 16 17 18 19 20\n",
      "21 22 23 24 25 26 27        18 19 20 21 22 23 24        17 18 19 20 21 22 23        21 22 23 24 25 26 27\n",
      "28 29 30 31                 25 26 27 28 29              24 25 26 27 28 29 30        28 29 30\n",
      "                                                        31\n",
      "\n",
      "        May                         June                        July                       August\n",
      "Mo Tu We Th Fr Sa Su        Mo Tu We Th Fr Sa Su        Mo Tu We Th Fr Sa Su        Mo Tu We Th Fr Sa Su\n",
      "          1  2  3  4                           1            1  2  3  4  5  6                     1  2  3\n",
      " 5  6  7  8  9 10 11         2  3  4  5  6  7  8         7  8  9 10 11 12 13         4  5  6  7  8  9 10\n",
      "12 13 14 15 16 17 18         9 10 11 12 13 14 15        14 15 16 17 18 19 20        11 12 13 14 15 16 17\n",
      "19 20 21 22 23 24 25        16 17 18 19 20 21 22        21 22 23 24 25 26 27        18 19 20 21 22 23 24\n",
      "26 27 28 29 30 31           23 24 25 26 27 28 29        28 29 30 31                 25 26 27 28 29 30 31\n",
      "                            30\n",
      "\n",
      "     September                    October                     November                    December\n",
      "Mo Tu We Th Fr Sa Su        Mo Tu We Th Fr Sa Su        Mo Tu We Th Fr Sa Su        Mo Tu We Th Fr Sa Su\n",
      " 1  2  3  4  5  6  7               1  2  3  4  5                        1  2         1  2  3  4  5  6  7\n",
      " 8  9 10 11 12 13 14         6  7  8  9 10 11 12         3  4  5  6  7  8  9         8  9 10 11 12 13 14\n",
      "15 16 17 18 19 20 21        13 14 15 16 17 18 19        10 11 12 13 14 15 16        15 16 17 18 19 20 21\n",
      "22 23 24 25 26 27 28        20 21 22 23 24 25 26        17 18 19 20 21 22 23        22 23 24 25 26 27 28\n",
      "29 30                       27 28 29 30 31              24 25 26 27 28 29 30        29 30 31\n",
      "\n"
     ]
    }
   ],
   "source": [
    "from calendar  import *\n",
    "year = int(input(\"Enter Year:\"))\n",
    "print(calendar(year, 2, 1, 8, 3))\n",
    "# 2 for characters for days\n",
    "#1 = 1 linr (row) for each week\n",
    "#8 = 8 rows for each month\n",
    "#3 = 3 columns for all month"
   ]
  },
  {
   "cell_type": "code",
   "execution_count": null,
   "id": "8101424c",
   "metadata": {},
   "outputs": [],
   "source": []
  }
 ],
 "metadata": {
  "kernelspec": {
   "display_name": "Python 3 (ipykernel)",
   "language": "python",
   "name": "python3"
  },
  "language_info": {
   "codemirror_mode": {
    "name": "ipython",
    "version": 3
   },
   "file_extension": ".py",
   "mimetype": "text/x-python",
   "name": "python",
   "nbconvert_exporter": "python",
   "pygments_lexer": "ipython3",
   "version": "3.10.9"
  }
 },
 "nbformat": 4,
 "nbformat_minor": 5
}
